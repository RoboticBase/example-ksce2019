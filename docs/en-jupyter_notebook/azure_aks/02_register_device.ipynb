{
 "cells": [
  {
   "cell_type": "markdown",
   "metadata": {},
   "source": [
    "# 2 register device to fiware on Azure AKS"
   ]
  },
  {
   "cell_type": "markdown",
   "metadata": {},
   "source": [
    "change ${CORE_ROOT} to your path of `core`."
   ]
  },
  {
   "cell_type": "code",
   "execution_count": null,
   "metadata": {
    "scrolled": false
   },
   "outputs": [],
   "source": [
    "export CORE_ROOT=\"${HOME}/core\""
   ]
  },
  {
   "cell_type": "markdown",
   "metadata": {},
   "source": [
    "change ${PJ_ROOT} to your path of `example-ksce2019`."
   ]
  },
  {
   "cell_type": "code",
   "execution_count": null,
   "metadata": {
    "scrolled": false
   },
   "outputs": [],
   "source": [
    "export PJ_ROOT=\"${HOME}/example-ksce2019\"\n",
    "cd ${PJ_ROOT};pwd"
   ]
  },
  {
   "cell_type": "markdown",
   "metadata": {},
   "source": [
    "example)\n",
    "```\n",
    "/Users/user/example-ksce2019\n",
    "```"
   ]
  },
  {
   "cell_type": "markdown",
   "metadata": {},
   "source": [
    "## load environment variables"
   ]
  },
  {
   "cell_type": "markdown",
   "metadata": {},
   "source": [
    "load from `core`"
   ]
  },
  {
   "cell_type": "code",
   "execution_count": null,
   "metadata": {
    "scrolled": false
   },
   "outputs": [],
   "source": [
    "source ${CORE_ROOT}/docs/environments/azure_aks/env"
   ]
  },
  {
   "cell_type": "markdown",
   "metadata": {},
   "source": [
    "load from `example-ksce2019`"
   ]
  },
  {
   "cell_type": "code",
   "execution_count": null,
   "metadata": {
    "scrolled": false
   },
   "outputs": [],
   "source": [
    "source ${PJ_ROOT}/docs/environments/azure_aks/env"
   ]
  },
  {
   "cell_type": "markdown",
   "metadata": {},
   "source": [
    "### register users to RabbitMQ"
   ]
  },
  {
   "cell_type": "code",
   "execution_count": null,
   "metadata": {
    "scrolled": false
   },
   "outputs": [],
   "source": [
    "for e in $(env); do\n",
    "  if [[ \"${e}\" =~ ^MQTT__([[:alnum:]_-]+)=([[:alnum:]_-]+)$ ]]; then\n",
    "    username=${BASH_REMATCH[1]}\n",
    "    password=${BASH_REMATCH[2]}\n",
    "    \n",
    "    kubectl exec rabbitmq-0 -- rabbitmqctl add_user ${username} ${password}\n",
    "    kubectl exec rabbitmq-0 -- rabbitmqctl set_permissions -p / ${username} \".*\" \".*\" \".*\"\n",
    "  fi\n",
    "done"
   ]
  },
  {
   "cell_type": "markdown",
   "metadata": {},
   "source": [
    "example)\n",
    "```\n",
    "Adding user \"iotagent\" ...\n",
    "Error:\n",
    "User \"iotagent\" already exists\n",
    "command terminated with exit code 70\n",
    "Setting permissions for user \"iotagent\" in vhost \"/\" ...\n",
    "Adding user \"mobile_robot\" ...\n",
    "Setting permissions for user \"mobile_robot\" in vhost \"/\" ...\n",
    "```"
   ]
  },
  {
   "cell_type": "code",
   "execution_count": null,
   "metadata": {
    "scrolled": false
   },
   "outputs": [],
   "source": [
    "kubectl exec rabbitmq-0 -- rabbitmqctl list_users"
   ]
  },
  {
   "cell_type": "markdown",
   "metadata": {},
   "source": [
    "example)\n",
    "```\n",
    "Listing users ...\n",
    "user\ttags\n",
    "mobile_robot\t[]\n",
    "guest\t[administrator]\n",
    "iotagent\t[]\n",
    "```"
   ]
  },
  {
   "cell_type": "markdown",
   "metadata": {},
   "source": [
    "## register mobile_robot service"
   ]
  },
  {
   "cell_type": "code",
   "execution_count": null,
   "metadata": {
    "scrolled": false
   },
   "outputs": [],
   "source": [
    "TOKEN=$(cat ${CORE_ROOT}/secrets/auth-tokens.json | jq '.[0].settings.bearer_tokens[0].token' -r)\n",
    "curl -H \"Authorization: bearer ${TOKEN}\" -H \"Fiware-Service: ${FIWARE_SERVICE}\" -H \"Fiware-ServicePath: ${MOBILE_ROBOT_SERVICEPATH}\" -H \"Content-Type: application/json\" https://api.${DOMAIN}/idas/ul20/manage/iot/services/ -X POST -d @- <<__EOS__\n",
    "{\n",
    "  \"services\": [\n",
    "    {\n",
    "      \"apikey\": \"${MOBILE_ROBOT_TYPE}\",\n",
    "      \"cbroker\": \"http://orion:1026\",\n",
    "      \"resource\": \"/iot/d\",\n",
    "      \"entity_type\": \"${MOBILE_ROBOT_TYPE}\"\n",
    "    }\n",
    "  ]\n",
    "}\n",
    "__EOS__"
   ]
  },
  {
   "cell_type": "markdown",
   "metadata": {},
   "source": [
    "example)\n",
    "```json\n",
    "{}\n",
    "```"
   ]
  },
  {
   "cell_type": "markdown",
   "metadata": {},
   "source": [
    "### confirm registered service"
   ]
  },
  {
   "cell_type": "code",
   "execution_count": null,
   "metadata": {
    "scrolled": false
   },
   "outputs": [],
   "source": [
    "TOKEN=$(cat ${CORE_ROOT}/secrets/auth-tokens.json | jq '.[0].settings.bearer_tokens[0].token' -r)\n",
    "curl -sS -H \"Authorization: bearer ${TOKEN}\" -H \"Fiware-Service: ${FIWARE_SERVICE}\" -H \"Fiware-Servicepath: ${MOBILE_ROBOT_SERVICEPATH}\" https://api.${DOMAIN}/idas/ul20/manage/iot/services/ | jq ."
   ]
  },
  {
   "cell_type": "markdown",
   "metadata": {},
   "source": [
    "example)\n",
    "```json\n",
    "{\n",
    "  \"count\": 1,\n",
    "  \"services\": [\n",
    "    {\n",
    "      \"commands\": [],\n",
    "      \"lazy\": [],\n",
    "      \"attributes\": [],\n",
    "      \"_id\": \"5d8af033359795000f6e976b\",\n",
    "      \"resource\": \"/iot/d\",\n",
    "      \"apikey\": \"mobile_robot\",\n",
    "      \"service\": \"guide_demo\",\n",
    "      \"subservice\": \"/mobile_robot\",\n",
    "      \"__v\": 0,\n",
    "      \"static_attributes\": [],\n",
    "      \"internal_attributes\": [],\n",
    "      \"entity_type\": \"mobile_robot\"\n",
    "    }\n",
    "  ]\n",
    "}\n",
    "```"
   ]
  },
  {
   "cell_type": "markdown",
   "metadata": {},
   "source": [
    "## register mobile_robot device"
   ]
  },
  {
   "cell_type": "code",
   "execution_count": null,
   "metadata": {
    "scrolled": false
   },
   "outputs": [],
   "source": [
    "TOKEN=$(cat ${CORE_ROOT}/secrets/auth-tokens.json | jq '.[0].settings.bearer_tokens[0].token' -r)\n",
    "curl -H \"Authorization: bearer ${TOKEN}\" -H \"Fiware-Service: ${FIWARE_SERVICE}\" -H \"Fiware-ServicePath: ${MOBILE_ROBOT_SERVICEPATH}\" -H \"Content-Type: application/json\" https://api.${DOMAIN}/idas/ul20/manage/iot/devices/ -X POST -d @- <<__EOS__\n",
    "{\n",
    "  \"devices\": [\n",
    "    {\n",
    "      \"device_id\": \"${MOBILE_ROBOT_ID}\",\n",
    "      \"entity_name\": \"${MOBILE_ROBOT_ID}\",\n",
    "      \"entity_type\": \"${MOBILE_ROBOT_TYPE}\",\n",
    "      \"timezone\": \"Asia/Tokyo\",\n",
    "      \"protocol\": \"UL20\",\n",
    "      \"attributes\": [\n",
    "      ],\n",
    "      \"commands\": [\n",
    "        {\n",
    "          \"name\": \"move\",\n",
    "          \"type\": \"string\"\n",
    "        }\n",
    "      ],\n",
    "      \"transport\": \"AMQP\"\n",
    "    }\n",
    "  ]\n",
    "}\n",
    "__EOS__"
   ]
  },
  {
   "cell_type": "markdown",
   "metadata": {},
   "source": [
    "example)\n",
    "```json\n",
    "{}\n",
    "```"
   ]
  },
  {
   "cell_type": "markdown",
   "metadata": {},
   "source": [
    "### confirm registered device"
   ]
  },
  {
   "cell_type": "code",
   "execution_count": null,
   "metadata": {
    "scrolled": false
   },
   "outputs": [],
   "source": [
    "TOKEN=$(cat ${CORE_ROOT}/secrets/auth-tokens.json | jq '.[0].settings.bearer_tokens[0].token' -r)\n",
    "curl -sS -H \"Authorization: bearer ${TOKEN}\" -H \"Fiware-Service: ${FIWARE_SERVICE}\" -H \"Fiware-Servicepath: ${MOBILE_ROBOT_SERVICEPATH}\" https://api.${DOMAIN}/idas/ul20/manage/iot/devices/${MOBILE_ROBOT_ID}/ | jq ."
   ]
  },
  {
   "cell_type": "markdown",
   "metadata": {},
   "source": [
    "example)\n",
    "```json\n",
    "{\n",
    "  \"device_id\": \"rosbot2_01\",\n",
    "  \"service\": \"guide_demo\",\n",
    "  \"service_path\": \"/mobile_robot\",\n",
    "  \"entity_name\": \"rosbot2_01\",\n",
    "  \"entity_type\": \"mobile_robot\",\n",
    "  \"transport\": \"AMQP\",\n",
    "  \"attributes\": [],\n",
    "  \"lazy\": [],\n",
    "  \"commands\": [\n",
    "    {\n",
    "      \"object_id\": \"move\",\n",
    "      \"name\": \"move\",\n",
    "      \"type\": \"string\"\n",
    "    }\n",
    "  ],\n",
    "  \"static_attributes\": [],\n",
    "  \"protocol\": \"UL20\"\n",
    "}\n",
    "```"
   ]
  },
  {
   "cell_type": "code",
   "execution_count": null,
   "metadata": {
    "scrolled": false
   },
   "outputs": [],
   "source": [
    "TOKEN=$(cat ${CORE_ROOT}/secrets/auth-tokens.json | jq '.[0].settings.bearer_tokens[0].token' -r)\n",
    "curl -sS -H \"Authorization: bearer ${TOKEN}\" -H \"Fiware-Service: ${FIWARE_SERVICE}\" -H \"Fiware-Servicepath: ${MOBILE_ROBOT_SERVICEPATH}\" https://api.${DOMAIN}/orion/v2/entities/${MOBILE_ROBOT_ID}/ | jq ."
   ]
  },
  {
   "cell_type": "markdown",
   "metadata": {},
   "source": [
    "example)\n",
    "```json\n",
    "{\n",
    "  \"id\": \"rosbot2_01\",\n",
    "  \"type\": \"mobile_robot\",\n",
    "  \"TimeInstant\": {\n",
    "    \"type\": \"ISO8601\",\n",
    "    \"value\": \" \",\n",
    "    \"metadata\": {}\n",
    "  },\n",
    "  \"move_info\": {\n",
    "    \"type\": \"commandResult\",\n",
    "    \"value\": \" \",\n",
    "    \"metadata\": {}\n",
    "  },\n",
    "  \"move_status\": {\n",
    "    \"type\": \"commandStatus\",\n",
    "    \"value\": \"UNKNOWN\",\n",
    "    \"metadata\": {}\n",
    "  },\n",
    "  \"move\": {\n",
    "    \"type\": \"string\",\n",
    "    \"value\": \"\",\n",
    "    \"metadata\": {}\n",
    "  }\n",
    "}\n",
    "```"
   ]
  },
  {
   "cell_type": "markdown",
   "metadata": {},
   "source": [
    "### register `cygnus-mongo` as a subscriber of mobile_robot device"
   ]
  },
  {
   "cell_type": "code",
   "execution_count": null,
   "metadata": {
    "scrolled": false
   },
   "outputs": [],
   "source": [
    "TOKEN=$(cat ${CORE_ROOT}/secrets/auth-tokens.json | jq '.[0].settings.bearer_tokens[0].token' -r)\n",
    "curl -i -H \"Authorization: bearer ${TOKEN}\" -H \"Fiware-Service: ${FIWARE_SERVICE}\" -H \"Fiware-ServicePath: ${MOBILE_ROBOT_SERVICEPATH}\" -H \"Content-Type: application/json\" https://api.${DOMAIN}/orion/v2/subscriptions/ -X POST -d @- <<__EOS__\n",
    "{\n",
    "  \"subject\": {\n",
    "    \"entities\": [{\n",
    "      \"idPattern\": \"${MOBILE_ROBOT_ID}\",\n",
    "      \"type\": \"${MOBILE_ROBOT_TYPE}\"\n",
    "    }],\n",
    "    \"condition\": {\n",
    "      \"attrs\": [\"move_status\", \"move_info\"]\n",
    "    }\n",
    "  },\n",
    "  \"notification\": {\n",
    "    \"http\": {\n",
    "      \"url\": \"http://cygnus-mongo:5050/notify\"\n",
    "    },\n",
    "    \"attrs\": [\"move_status\", \"move_info\"],\n",
    "    \"attrsFormat\": \"legacy\"\n",
    "  }\n",
    "}\n",
    "__EOS__"
   ]
  },
  {
   "cell_type": "markdown",
   "metadata": {},
   "source": [
    "example)\n",
    "```\n",
    "HTTP/1.1 201 Created\n",
    "content-length: 0\n",
    "location: /v2/subscriptions/5cd620e1d9d5db2ffb119d16\n",
    "fiware-correlator: 7beb02c2-7389-11e9-88b9-46b1c9ec8ccd\n",
    "date: Sat, 11 May 2019 01:09:53 GMT\n",
    "x-envoy-upstream-service-time: 4\n",
    "server: envoy\n",
    "```"
   ]
  },
  {
   "cell_type": "code",
   "execution_count": null,
   "metadata": {
    "scrolled": false
   },
   "outputs": [],
   "source": [
    "TOKEN=$(cat ${CORE_ROOT}/secrets/auth-tokens.json | jq '.[0].settings.bearer_tokens[0].token' -r)\n",
    "curl -sS -H \"Authorization: bearer ${TOKEN}\" -H \"Fiware-Service: ${FIWARE_SERVICE}\" -H \"Fiware-ServicePath: ${MOBILE_ROBOT_SERVICEPATH}\" https://api.${DOMAIN}/orion/v2/subscriptions/ | jq ."
   ]
  },
  {
   "cell_type": "markdown",
   "metadata": {},
   "source": [
    "example)\n",
    "```json\n",
    "[\n",
    "  {\n",
    "    \"id\": \"5d8af0ca0ca888199b27586a\",\n",
    "    \"status\": \"active\",\n",
    "    \"subject\": {\n",
    "      \"entities\": [\n",
    "        {\n",
    "          \"idPattern\": \"rosbot2_01\",\n",
    "          \"type\": \"mobile_robot\"\n",
    "        }\n",
    "      ],\n",
    "      \"condition\": {\n",
    "        \"attrs\": [\n",
    "          \"move_status\",\n",
    "          \"move_info\"\n",
    "        ]\n",
    "      }\n",
    "    },\n",
    "    \"notification\": {\n",
    "      \"timesSent\": 1,\n",
    "      \"lastNotification\": \"2019-09-25T04:44:58.00Z\",\n",
    "      \"attrs\": [\n",
    "        \"move_status\",\n",
    "        \"move_info\"\n",
    "      ],\n",
    "      \"attrsFormat\": \"legacy\",\n",
    "      \"http\": {\n",
    "        \"url\": \"http://cygnus-mongo:5050/notify\"\n",
    "      },\n",
    "      \"lastSuccess\": \"2019-09-25T04:44:58.00Z\",\n",
    "      \"lastSuccessCode\": 200\n",
    "    }\n",
    "  }\n",
    "]\n",
    "```"
   ]
  },
  {
   "cell_type": "markdown",
   "metadata": {},
   "source": [
    "## test mobile_robot device"
   ]
  },
  {
   "cell_type": "markdown",
   "metadata": {},
   "source": [
    "### prepare a command to subscribe all topics"
   ]
  },
  {
   "cell_type": "code",
   "execution_count": null,
   "metadata": {
    "scrolled": false
   },
   "outputs": [],
   "source": [
    "echo \"mosquitto_sub -h mqtt.${DOMAIN} -p 8883 --cafile ${CORE_ROOT}/secrets/DST_Root_CA_X3.pem -d -u iotagent -P ${MQTT__iotagent} -t /#\""
   ]
  },
  {
   "cell_type": "markdown",
   "metadata": {},
   "source": [
    "### subscribe all topic"
   ]
  },
  {
   "cell_type": "markdown",
   "metadata": {},
   "source": [
    "_Outside of this notebook_\n",
    "1. open a ternminal.\n",
    "1. run the above command displayed `prepare a command to subscribe all topics`."
   ]
  },
  {
   "cell_type": "markdown",
   "metadata": {},
   "source": [
    "### update the move attribute of mobile_robot to emulate sending the command"
   ]
  },
  {
   "cell_type": "code",
   "execution_count": null,
   "metadata": {
    "scrolled": false
   },
   "outputs": [],
   "source": [
    "TOKEN=$(cat ${CORE_ROOT}/secrets/auth-tokens.json | jq '.[0].settings.bearer_tokens[0].token' -r)\n",
    "curl -i -H \"Authorization: bearer ${TOKEN}\" -H \"Fiware-Service: ${FIWARE_SERVICE}\" -H \"Fiware-Servicepath: ${MOBILE_ROBOT_SERVICEPATH}\" -H \"Content-Type: application/json\" https://api.${DOMAIN}/orion/v2/entities/${MOBILE_ROBOT_ID}/attrs?type=${MOBILE_ROBOT_TYPE} -X PATCH -d @-<<__EOS__\n",
    "{\n",
    "  \"move\": {\n",
    "    \"value\": \"home\"\n",
    "  }\n",
    "}\n",
    "__EOS__"
   ]
  },
  {
   "cell_type": "markdown",
   "metadata": {},
   "source": [
    "example)\n",
    "```\n",
    "HTTP/1.1 204 No Content\n",
    "content-length: 0\n",
    "fiware-correlator: 84b12a5e-738d-11e9-83e5-46b1c9ec8ccd\n",
    "date: Sat, 11 May 2019 01:38:46 GMT\n",
    "x-envoy-upstream-service-time: 71\n",
    "server: envoy\n",
    "```"
   ]
  },
  {
   "cell_type": "markdown",
   "metadata": {},
   "source": [
    "when executing the above command, show below messages on the opened terminal.\n",
    "\n",
    "example)\n",
    "```\n",
    "Client mosq/TWXu4jyT8lK9gWpTrb received PUBLISH (d0, q0, r0, m0, '/mobile_robot/rosbot2_01/cmd', ... (20 bytes))\n",
    "rosbot2_01@move|home\n",
    "```"
   ]
  },
  {
   "cell_type": "markdown",
   "metadata": {},
   "source": [
    "### confirm mobile_robot entity"
   ]
  },
  {
   "cell_type": "code",
   "execution_count": null,
   "metadata": {
    "scrolled": false
   },
   "outputs": [],
   "source": [
    "TOKEN=$(cat ${CORE_ROOT}/secrets/auth-tokens.json | jq '.[0].settings.bearer_tokens[0].token' -r)\n",
    "curl -sS -H \"Authorization: bearer ${TOKEN}\" -H \"Fiware-Service: ${FIWARE_SERVICE}\" -H \"Fiware-Servicepath: ${MOBILE_ROBOT_SERVICEPATH}\" https://api.${DOMAIN}/orion/v2/entities/${MOBILE_ROBOT_ID}/ | jq ."
   ]
  },
  {
   "cell_type": "markdown",
   "metadata": {},
   "source": [
    "example)\n",
    "```json\n",
    "{\n",
    "  \"id\": \"rosbot2_01\",\n",
    "  \"type\": \"mobile_robot\",\n",
    "  \"TimeInstant\": {\n",
    "    \"type\": \"ISO8601\",\n",
    "    \"value\": \"2019-09-25T04:47:43.00Z\",\n",
    "    \"metadata\": {}\n",
    "  },\n",
    "  \"move_info\": {\n",
    "    \"type\": \"commandResult\",\n",
    "    \"value\": \" \",\n",
    "    \"metadata\": {}\n",
    "  },\n",
    "  \"move_status\": {\n",
    "    \"type\": \"commandStatus\",\n",
    "    \"value\": \"PENDING\",\n",
    "    \"metadata\": {\n",
    "      \"TimeInstant\": {\n",
    "        \"type\": \"ISO8601\",\n",
    "        \"value\": \"2019-09-25T04:47:43.738Z\"\n",
    "      }\n",
    "    }\n",
    "  },\n",
    "  \"move\": {\n",
    "    \"type\": \"string\",\n",
    "    \"value\": \"\",\n",
    "    \"metadata\": {}\n",
    "  }\n",
    "}\n",
    "```"
   ]
  },
  {
   "cell_type": "markdown",
   "metadata": {},
   "source": [
    "### publish a MQTT message to emulate receiving the command result from mobile_robot"
   ]
  },
  {
   "cell_type": "code",
   "execution_count": null,
   "metadata": {
    "scrolled": false
   },
   "outputs": [],
   "source": [
    "mosquitto_pub -h mqtt.${DOMAIN} -p 8883 --cafile ${CORE_ROOT}/secrets/DST_Root_CA_X3.pem -d -u iotagent -P ${MQTT__iotagent} -t /${MOBILE_ROBOT_TYPE}/${MOBILE_ROBOT_ID}/cmdexe -m \"${MOBILE_ROBOT_ID}@move|received home\""
   ]
  },
  {
   "cell_type": "markdown",
   "metadata": {},
   "source": [
    "example)\n",
    "```\n",
    "Client mosq/zmmwCxWFQSP0u6XAFN sending CONNECT\n",
    "Client mosq/zmmwCxWFQSP0u6XAFN received CONNACK (0)\n",
    "Client mosq/zmmwCxWFQSP0u6XAFN sending PUBLISH (d0, q0, r0, m1, '/mobile_robot/rosbot2_01/cmdexe', ... (27 bytes))\n",
    "Client mosq/zmmwCxWFQSP0u6XAFN sending DISCONNECT\n",
    "```"
   ]
  },
  {
   "cell_type": "markdown",
   "metadata": {},
   "source": [
    "when executing the above command, show below messages on the opened terminal.\n",
    "\n",
    "example)\n",
    "```\n",
    "Client mosq/TWXu4jyT8lK9gWpTrb received PUBLISH (d0, q0, r0, m0, '/mobile_robot/rosbot2_01/cmdexe', ... (29 bytes))\n",
    "rosbot2_01@move|received home\n",
    "```"
   ]
  },
  {
   "cell_type": "markdown",
   "metadata": {},
   "source": [
    "### confirm mobile_robot entity"
   ]
  },
  {
   "cell_type": "code",
   "execution_count": null,
   "metadata": {
    "scrolled": false
   },
   "outputs": [],
   "source": [
    "TOKEN=$(cat ${CORE_ROOT}/secrets/auth-tokens.json | jq '.[0].settings.bearer_tokens[0].token' -r)\n",
    "curl -sS -H \"Authorization: bearer ${TOKEN}\" -H \"Fiware-Service: ${FIWARE_SERVICE}\" -H \"Fiware-Servicepath: ${MOBILE_ROBOT_SERVICEPATH}\" https://api.${DOMAIN}/orion/v2/entities/${MOBILE_ROBOT_ID}/ | jq ."
   ]
  },
  {
   "cell_type": "markdown",
   "metadata": {},
   "source": [
    "example)\n",
    "```json\n",
    "{\n",
    "  \"id\": \"rosbot2_01\",\n",
    "  \"type\": \"mobile_robot\",\n",
    "  \"TimeInstant\": {\n",
    "    \"type\": \"ISO8601\",\n",
    "    \"value\": \"2019-09-25T04:48:29.00Z\",\n",
    "    \"metadata\": {}\n",
    "  },\n",
    "  \"move_info\": {\n",
    "    \"type\": \"commandResult\",\n",
    "    \"value\": \"received home\",\n",
    "    \"metadata\": {\n",
    "      \"TimeInstant\": {\n",
    "        \"type\": \"ISO8601\",\n",
    "        \"value\": \"2019-09-25T04:48:29.589Z\"\n",
    "      }\n",
    "    }\n",
    "  },\n",
    "  \"move_status\": {\n",
    "    \"type\": \"commandStatus\",\n",
    "    \"value\": \"OK\",\n",
    "    \"metadata\": {\n",
    "      \"TimeInstant\": {\n",
    "        \"type\": \"ISO8601\",\n",
    "        \"value\": \"2019-09-25T04:48:29.589Z\"\n",
    "      }\n",
    "    }\n",
    "  },\n",
    "  \"move\": {\n",
    "    \"type\": \"string\",\n",
    "    \"value\": \"\",\n",
    "    \"metadata\": {}\n",
    "  }\n",
    "}\n",
    "```"
   ]
  },
  {
   "cell_type": "markdown",
   "metadata": {},
   "source": [
    "### confirm cygnus-mongo"
   ]
  },
  {
   "cell_type": "code",
   "execution_count": null,
   "metadata": {
    "scrolled": true
   },
   "outputs": [],
   "source": [
    "c=$(echo sth_${MOBILE_ROBOT_SERVICEPATH}xffff${MOBILE_ROBOT_ID}xffff${MOBILE_ROBOT_TYPE} | perl -pe 's/\\//x002f/g; s/\\$/x0024/g; s/=/xffff/g;')\n",
    "kubectl exec mongodb-0 -c mongodb-replicaset -- mongo sth_${FIWARE_SERVICE} --eval \"db.getCollection(\\\"${c}\\\").find().sort({recvTime: -1})\""
   ]
  },
  {
   "cell_type": "markdown",
   "metadata": {},
   "source": [
    "example)\n",
    "```\n",
    "MongoDB shell version v4.1.13\n",
    "connecting to: mongodb://127.0.0.1:27017/sth_guide_demo?compressors=disabled&gssapiServiceName=mongodb\n",
    "Implicit session: session { \"id\" : UUID(\"9a0af3f9-7d89-44e4-bc41-e87a5c800134\") }\n",
    "MongoDB server version: 4.1.13\n",
    "{ \"_id\" : ObjectId(\"5d8af19dda9e650014954e9d\"), \"recvTime\" : ISODate(\"2019-09-25T04:48:29.589Z\"), \"attrName\" : \"move_status\", \"attrType\" : \"commandStatus\", \"attrValue\" : \"OK\" }\n",
    "{ \"_id\" : ObjectId(\"5d8af19dda9e650014954e9e\"), \"recvTime\" : ISODate(\"2019-09-25T04:48:29.589Z\"), \"attrName\" : \"move_info\", \"attrType\" : \"commandResult\", \"attrValue\" : \"received home\" }\n",
    "{ \"_id\" : ObjectId(\"5d8af170da9e650014954e9b\"), \"recvTime\" : ISODate(\"2019-09-25T04:47:43.738Z\"), \"attrName\" : \"move_status\", \"attrType\" : \"commandStatus\", \"attrValue\" : \"PENDING\" }\n",
    "{ \"_id\" : ObjectId(\"5d8af0cbdbf99b00148fcc8e\"), \"recvTime\" : ISODate(\"2019-09-25T04:44:58.467Z\"), \"attrName\" : \"move_status\", \"attrType\" : \"commandStatus\", \"attrValue\" : \"UNKNOWN\" }\n",
    "```"
   ]
  },
  {
   "cell_type": "markdown",
   "metadata": {},
   "source": [
    "### confirm sth-comet"
   ]
  },
  {
   "cell_type": "code",
   "execution_count": null,
   "metadata": {},
   "outputs": [],
   "source": [
    "TOKEN=$(cat ${CORE_ROOT}/secrets/auth-tokens.json | jq '.[0].settings.bearer_tokens[0].token' -r)\n",
    "for a in \"move_info\" \"move_status\"; do\n",
    "  curl -sS -H \"Authorization: bearer ${TOKEN}\" -H \"Fiware-Service: ${FIWARE_SERVICE}\" -H \"Fiware-ServicePath: ${MOBILE_ROBOT_SERVICEPATH}\" https://api.${DOMAIN}/comet/STH/v1/contextEntities/type/${MOBILE_ROBOT_TYPE}/id/${MOBILE_ROBOT_ID}/attributes/${a}?lastN=100 | jq .\n",
    "done"
   ]
  },
  {
   "cell_type": "markdown",
   "metadata": {},
   "source": [
    "example)\n",
    "```json\n",
    "{\n",
    "  \"contextResponses\": [\n",
    "    {\n",
    "      \"contextElement\": {\n",
    "        \"attributes\": [\n",
    "          {\n",
    "            \"name\": \"move_info\",\n",
    "            \"values\": [\n",
    "              {\n",
    "                \"recvTime\": \"2019-09-25T04:48:29.589Z\",\n",
    "                \"attrType\": \"commandResult\",\n",
    "                \"attrValue\": \"received home\"\n",
    "              }\n",
    "            ]\n",
    "          }\n",
    "        ],\n",
    "        \"id\": \"rosbot2_01\",\n",
    "        \"isPattern\": false,\n",
    "        \"type\": \"mobile_robot\"\n",
    "      },\n",
    "      \"statusCode\": {\n",
    "        \"code\": \"200\",\n",
    "        \"reasonPhrase\": \"OK\"\n",
    "      }\n",
    "    }\n",
    "  ]\n",
    "}\n",
    "```\n",
    "```json\n",
    "{\n",
    "  \"contextResponses\": [\n",
    "    {\n",
    "      \"contextElement\": {\n",
    "        \"attributes\": [\n",
    "          {\n",
    "            \"name\": \"move_status\",\n",
    "            \"values\": [\n",
    "              {\n",
    "                \"recvTime\": \"2019-09-25T04:44:58.467Z\",\n",
    "                \"attrType\": \"commandStatus\",\n",
    "                \"attrValue\": \"UNKNOWN\"\n",
    "              },\n",
    "              {\n",
    "                \"recvTime\": \"2019-09-25T04:47:43.738Z\",\n",
    "                \"attrType\": \"commandStatus\",\n",
    "                \"attrValue\": \"PENDING\"\n",
    "              },\n",
    "              {\n",
    "                \"recvTime\": \"2019-09-25T04:48:29.589Z\",\n",
    "                \"attrType\": \"commandStatus\",\n",
    "                \"attrValue\": \"OK\"\n",
    "              }\n",
    "            ]\n",
    "          }\n",
    "        ],\n",
    "        \"id\": \"rosbot2_01\",\n",
    "        \"isPattern\": false,\n",
    "        \"type\": \"mobile_robot\"\n",
    "      },\n",
    "      \"statusCode\": {\n",
    "        \"code\": \"200\",\n",
    "        \"reasonPhrase\": \"OK\"\n",
    "      }\n",
    "    }\n",
    "  ]\n",
    "}\n",
    "```"
   ]
  }
 ],
 "metadata": {
  "kernelspec": {
   "display_name": "Bash",
   "language": "bash",
   "name": "bash"
  },
  "language_info": {
   "codemirror_mode": "shell",
   "file_extension": ".sh",
   "mimetype": "text/x-sh",
   "name": "bash"
  }
 },
 "nbformat": 4,
 "nbformat_minor": 2
}
