{
 "cells": [
  {
   "cell_type": "markdown",
   "metadata": {},
   "source": [
    "# 1 start pods on Azure AKS"
   ]
  },
  {
   "cell_type": "markdown",
   "metadata": {},
   "source": [
    "change ${CORE_ROOT} to your path of `core`."
   ]
  },
  {
   "cell_type": "code",
   "execution_count": null,
   "metadata": {},
   "outputs": [],
   "source": [
    "export CORE_ROOT=\"${HOME}/core\""
   ]
  },
  {
   "cell_type": "markdown",
   "metadata": {},
   "source": [
    "change ${PJ_ROOT} to your path of `example-ksce2019`."
   ]
  },
  {
   "cell_type": "code",
   "execution_count": null,
   "metadata": {},
   "outputs": [],
   "source": [
    "export PJ_ROOT=\"${HOME}/example-ksce2019\"\n",
    "cd ${PJ_ROOT};pwd"
   ]
  },
  {
   "cell_type": "markdown",
   "metadata": {},
   "source": [
    "example)\n",
    "```\n",
    "/Users/user/example-ksce2019\n",
    "```"
   ]
  },
  {
   "cell_type": "markdown",
   "metadata": {},
   "source": [
    "## load environment variables"
   ]
  },
  {
   "cell_type": "markdown",
   "metadata": {},
   "source": [
    "load from `core`"
   ]
  },
  {
   "cell_type": "code",
   "execution_count": null,
   "metadata": {},
   "outputs": [],
   "source": [
    "source ${CORE_ROOT}/docs/environments/azure_aks/env"
   ]
  },
  {
   "cell_type": "markdown",
   "metadata": {},
   "source": [
    "load from `example-ksce2019`"
   ]
  },
  {
   "cell_type": "code",
   "execution_count": null,
   "metadata": {},
   "outputs": [],
   "source": [
    "source ${PJ_ROOT}/docs/environments/azure_aks/env"
   ]
  },
  {
   "cell_type": "markdown",
   "metadata": {},
   "source": [
    "## setup alias"
   ]
  },
  {
   "cell_type": "code",
   "execution_count": null,
   "metadata": {},
   "outputs": [],
   "source": [
    "if [ \"$(uname)\" == 'Darwin' ]; then\n",
    "  alias randomstr8='cat /dev/urandom | LC_CTYPE=C tr -dc 'a-zA-Z0-9' | head -c 8'\n",
    "  alias randomstr16='cat /dev/urandom | LC_CTYPE=C tr -dc 'a-zA-Z0-9' | head -c 16'\n",
    "  alias randomstr32='cat /dev/urandom | LC_CTYPE=C tr -dc 'a-zA-Z0-9' | head -c 32'\n",
    "elif [ \"$(expr substr $(uname -s) 1 5)\" == 'Linux' ]; then\n",
    "  alias randomstr8='cat /dev/urandom 2>/dev/null | head -n 40 | tr -cd 'a-zA-Z0-9' | head -c 8'\n",
    "  alias randomstr16='cat /dev/urandom 2>/dev/null | head -n 40 | tr -cd 'a-zA-Z0-9' | head -c 16'\n",
    "  alias randomstr32='cat /dev/urandom 2>/dev/null | head -n 40 | tr -cd 'a-zA-Z0-9' | head -c 32'\n",
    "else\n",
    "  echo \"Your platform ($(uname -a)) is not supported.\"\n",
    "  exit 1\n",
    "fi"
   ]
  },
  {
   "cell_type": "markdown",
   "metadata": {},
   "source": [
    "## add auth tokens for the web app of controller"
   ]
  },
  {
   "cell_type": "markdown",
   "metadata": {},
   "source": [
    "### update secrets/auth-tokens.json"
   ]
  },
  {
   "cell_type": "markdown",
   "metadata": {},
   "source": [
    "example)\n",
    "```json\n",
    "[\n",
    "  {\n",
    "    \"host\": \"api\\\\..+$\",\n",
    "    \"settings\": {\n",
    "      \"bearer_tokens\": [\n",
    "        {\n",
    "          \"token\": \"nrWtb8sS0MmwlkhHXv0DC6orPMpFFbni\",\n",
    "          \"allowed_paths\": [\"^/orion/.*$\", \"^/idas/.*$\", \"^/comet/.*$\"]\n",
    "        }\n",
    "      ],\n",
    "      \"basic_auths\": [],\n",
    "      \"no_auths\": {}\n",
    "    }\n",
    "  },\n",
    "  {\n",
    "    \"host\": \"kibana\\\\..+$\",\n",
    "    \"settings\": {\n",
    "      \"bearer_tokens\": [],\n",
    "      \"basic_auths\": [\n",
    "        {\n",
    "          \"username\": \"yW7FvSGD\",\n",
    "          \"password\": \"6BoTFE5xfUlX3ssV\",\n",
    "          \"allowed_paths\": [\"^.*$\"]\n",
    "        }\n",
    "      ],\n",
    "      \"no_auths\": {\n",
    "        \"allowed_paths\": []\n",
    "      }\n",
    "    }\n",
    "  },\n",
    "  {\n",
    "    \"host\": \"grafana\\\\..+$\",\n",
    "    \"settings\": {\n",
    "      \"bearer_tokens\": [],\n",
    "      \"basic_auths\": [],\n",
    "      \"no_auths\": {\n",
    "        \"allowed_paths\": [\"^.*$\"]\n",
    "      }\n",
    "    }\n",
    "  },\n",
    "  {\n",
    "    \"host\": \"web\\\\..+$\",\n",
    "    \"settings\": {\n",
    "      \"bearer_tokens\": [],\n",
    "      \"basic_auths\": [\n",
    "        {\n",
    "          \"username\": \"1JMF6D46\",\n",
    "          \"password\": \"6u5M0bUhfjj7wMdM\",\n",
    "          \"allowed_paths\": [\n",
    "            \"^.*$\"\n",
    "          ]\n",
    "        }\n",
    "      ],\n",
    "      \"no_auths\": {\n",
    "        \"allowed_paths\": [\n",
    "          \"^.*/static/.*$\"\n",
    "        ]\n",
    "      }\n",
    "    }\n",
    "  }\n",
    "]\n",
    "```"
   ]
  },
  {
   "cell_type": "code",
   "execution_count": null,
   "metadata": {},
   "outputs": [],
   "source": [
    "cat ${CORE_ROOT}/secrets/auth-tokens.json | jq '.|=.+[{\n",
    "  \"host\": \"web\\\\..+$\",\n",
    "  \"settings\": {\n",
    "    \"bearer_tokens\": [],\n",
    "    \"basic_auths\": [\n",
    "      {\n",
    "        \"username\": \"'$(randomstr8)'\",\n",
    "        \"password\": \"'$(randomstr16)'\",\n",
    "        \"allowed_paths\": [\"^.*$\"]\n",
    "      }\n",
    "    ],\n",
    "    \"no_auths\": {\n",
    "      \"allowed_paths\": [\"^.*/static/.*$\"]\n",
    "    }\n",
    "  }\n",
    "}]' | tee /tmp/auth-tokens.json\n",
    "mv ${CORE_ROOT}/secrets/auth-tokens.json ${CORE_ROOT}/secrets/auth-tokens.json.back\n",
    "mv /tmp/auth-tokens.json ${CORE_ROOT}/secrets/auth-tokens.json"
   ]
  },
  {
   "cell_type": "markdown",
   "metadata": {},
   "source": [
    "## change the auth-tokens to kubernetes secrets"
   ]
  },
  {
   "cell_type": "markdown",
   "metadata": {},
   "source": [
    "### watch auth log"
   ]
  },
  {
   "cell_type": "markdown",
   "metadata": {},
   "source": [
    "Outside of this notebook\n",
    "\n",
    "1. open a ternminal.\n",
    "2. run a command displayed below."
   ]
  },
  {
   "cell_type": "code",
   "execution_count": null,
   "metadata": {},
   "outputs": [],
   "source": [
    "echo \"kubectl logs -f -lapp=auth --all-containers=true\""
   ]
  },
  {
   "cell_type": "markdown",
   "metadata": {},
   "source": [
    "### delete and re-register auth-tokens to kubernetes secrets"
   ]
  },
  {
   "cell_type": "code",
   "execution_count": null,
   "metadata": {},
   "outputs": [],
   "source": [
    "kubectl delete secret auth-tokens"
   ]
  },
  {
   "cell_type": "code",
   "execution_count": null,
   "metadata": {},
   "outputs": [],
   "source": [
    "kubectl create secret generic auth-tokens --from-file=${CORE_ROOT}/secrets/auth-tokens.json"
   ]
  },
  {
   "cell_type": "markdown",
   "metadata": {},
   "source": [
    "### confirm the token will be reloaded"
   ]
  },
  {
   "cell_type": "markdown",
   "metadata": {},
   "source": [
    "**wait a few minutes until the change of secret is detected by Kubernetes.**  \n",
    "When the new secret is detected, the tokens of auth will be reloaded automatically."
   ]
  },
  {
   "cell_type": "markdown",
   "metadata": {},
   "source": [
    "log messages like below will be shown after tokens is reloaded.\n",
    "\n",
    "```\n",
    "...\n",
    "--------\n",
    "2019/09/25 06:55:27 hosts: [api\\..+$ kibana\\..+$ grafana\\..+$ web\\..+$]\n",
    "--------\n",
    "2019/09/25 06:55:27 bearerTokenAllowedPaths: map[api\\..+$:map[a3K0mBgLIpXPmjzd7NtzEd1a28NRQD0e:[^/orion/.*$ ^/idas/.*$ ^/comet/.*$]]]\n",
    "--------\n",
    "2019/09/25 06:55:27 basicAuthPaths, map[kibana\\..+$:map[^.*$:map[8njnClHL:7ivbWp1Qu5XbWPIt]] web\\..+$:map[^.*$:map[EVu2A16R:If0aU5xZUiefG72D]]]\n",
    "--------\n",
    "2019/09/25 06:55:27 noAuthPaths, map[web\\..+$:[^.*/static/.*$] api\\..+$:[] kibana\\..+$:[] grafana\\..+$:[^.*$]]\n",
    "--------\n",
    "```"
   ]
  },
  {
   "cell_type": "markdown",
   "metadata": {},
   "source": [
    "## start controller service on Azure AKS"
   ]
  },
  {
   "cell_type": "code",
   "execution_count": null,
   "metadata": {},
   "outputs": [],
   "source": [
    "kubectl apply -f controller/ksce2019-controller-service.yaml"
   ]
  },
  {
   "cell_type": "code",
   "execution_count": null,
   "metadata": {},
   "outputs": [],
   "source": [
    "kubectl get services -l app=controller"
   ]
  },
  {
   "cell_type": "markdown",
   "metadata": {},
   "source": [
    "example)\n",
    "```\n",
    "NAME         TYPE        CLUSTER-IP     EXTERNAL-IP   PORT(S)    AGE\n",
    "guide-demo   ClusterIP   10.0.236.157   <none>        3000/TCP   41s\n",
    "```"
   ]
  },
  {
   "cell_type": "markdown",
   "metadata": {},
   "source": [
    "## start controller pod on Azure AKS"
   ]
  },
  {
   "cell_type": "markdown",
   "metadata": {},
   "source": [
    "set your API token of zaico.co,jp"
   ]
  },
  {
   "cell_type": "code",
   "execution_count": null,
   "metadata": {},
   "outputs": [],
   "source": [
    "export ZAICO_TOKEN=\"xxxxxxxxxxxxxxxxxxxx\""
   ]
  },
  {
   "cell_type": "code",
   "execution_count": null,
   "metadata": {},
   "outputs": [],
   "source": [
    "envsubst < controller/ksce2019-controller-deployment.yaml | kubectl apply -f -"
   ]
  },
  {
   "cell_type": "code",
   "execution_count": null,
   "metadata": {},
   "outputs": [],
   "source": [
    "kubectl get pods -l app=controller"
   ]
  },
  {
   "cell_type": "markdown",
   "metadata": {},
   "source": [
    "example)\n",
    "```\n",
    "NAME                          READY   STATUS    RESTARTS   AGE\n",
    "controller-5ff54cdfdb-6jpzl   1/1     Running   0          72s\n",
    "controller-5ff54cdfdb-frltr   1/1     Running   0          72s\n",
    "controller-5ff54cdfdb-xp8v9   1/1     Running   0          72s\n",
    "```"
   ]
  },
  {
   "cell_type": "markdown",
   "metadata": {},
   "source": [
    "## register DNS A Record for business logic"
   ]
  },
  {
   "cell_type": "code",
   "execution_count": null,
   "metadata": {},
   "outputs": [],
   "source": [
    "HTTPS_IPADDR=$(kubectl get services -l app=ambassador -o json | jq '.items[0].status.loadBalancer.ingress[0].ip' -r)\n",
    "az network dns record-set a add-record --resource-group ${DNS_ZONE_RG} --zone-name \"${DOMAIN}\" --record-set-name \"web\" --ipv4-address \"${HTTPS_IPADDR}\""
   ]
  },
  {
   "cell_type": "code",
   "execution_count": null,
   "metadata": {},
   "outputs": [],
   "source": [
    "curl -i https://web.${DOMAIN}/"
   ]
  },
  {
   "cell_type": "markdown",
   "metadata": {},
   "source": [
    "example)\n",
    "```\n",
    "HTTP/1.1 404 Not Found\n",
    "date: Wed, 25 Sep 2019 06:20:39 GMT\n",
    "server: envoy\n",
    "content-length: 0\n",
    "```"
   ]
  }
 ],
 "metadata": {
  "kernelspec": {
   "display_name": "Bash",
   "language": "bash",
   "name": "bash"
  },
  "language_info": {
   "codemirror_mode": "shell",
   "file_extension": ".sh",
   "mimetype": "text/x-sh",
   "name": "bash"
  }
 },
 "nbformat": 4,
 "nbformat_minor": 2
}
